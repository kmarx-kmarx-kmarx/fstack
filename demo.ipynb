{
 "cells": [
  {
   "cell_type": "code",
   "execution_count": 1,
   "id": "b5a2a355",
   "metadata": {},
   "outputs": [],
   "source": [
    "from fstack import fstack\n",
    "from fstack_cu import fstack_cu\n",
    "import os\n",
    "import re\n",
    "import cv2"
   ]
  },
  {
   "cell_type": "code",
   "execution_count": 2,
   "id": "b456c27b",
   "metadata": {},
   "outputs": [
    {
     "name": "stdout",
     "output_type": "stream",
     "text": [
      "['../images/1/0_1_0_Fluorescence_405_nm_Ex.bmp', '../images/1/0_1_1_Fluorescence_405_nm_Ex.bmp', '../images/1/0_1_2_Fluorescence_405_nm_Ex.bmp', '../images/1/0_1_3_Fluorescence_405_nm_Ex.bmp', '../images/1/0_1_4_Fluorescence_405_nm_Ex.bmp', '../images/1/0_1_5_Fluorescence_405_nm_Ex.bmp', '../images/1/0_1_6_Fluorescence_405_nm_Ex.bmp', '../images/1/0_1_7_Fluorescence_405_nm_Ex.bmp', '../images/1/0_1_8_Fluorescence_405_nm_Ex.bmp', '../images/1/0_1_9_Fluorescence_405_nm_Ex.bmp']\n"
     ]
    }
   ],
   "source": [
    "direct = \"../images/1\"#input(\"path to images?\")\n",
    "key = \"405\"#input(\"key?\")\n",
    "\n",
    "images = os.listdir(direct)\n",
    "filteredList = [img for img in images if key in img]\n",
    "filteredList.sort() # paths must be sorted by z height\n",
    "paths = [direct + \"/\" + img for img in filteredList]\n",
    "focus = [int(re.findall(r\"[0-9]+\", img)[2]) for img in filteredList]\n",
    "print(paths)"
   ]
  },
  {
   "cell_type": "code",
   "execution_count": 4,
   "id": "f6ee42fc",
   "metadata": {},
   "outputs": [
    {
     "name": "stdout",
     "output_type": "stream",
     "text": [
      "FMeasure: is 3D\n",
      "all same\n",
      "7.495293617248535\n",
      "SMeasure\n",
      "gauss3P: 2.099229335784912\n",
      "err: 1.7663943767547607\n",
      "filter: 1.8803184032440186\n",
      "fusion: 0.35782694816589355\n",
      "total time: 13.59906268119812\n",
      "~~~~~~~~~~~~~~~~~~~~~~~~~~~~~~~~\n",
      "FMeasure: 1.1264593601226807\n",
      "SMeasure\n",
      "gauss3P: 0.930173397064209\n",
      "err: 1.672647476196289\n",
      "filter: 0.4842643737792969\n",
      "fusion: 0.25012969970703125\n",
      "total time: 4.463674306869507\n"
     ]
    }
   ],
   "source": [
    "im1 = fstack(paths, focus)\n",
    "print(\"~~~~~~~~~~~~~~~~~~~~~~~~~~~~~~~~\")\n",
    "im2 = fstack_cu(paths, focus)"
   ]
  },
  {
   "cell_type": "code",
   "execution_count": 1,
   "id": "579303c7",
   "metadata": {},
   "outputs": [
    {
     "ename": "NameError",
     "evalue": "name 'im2' is not defined",
     "output_type": "error",
     "traceback": [
      "\u001b[0;31m---------------------------------------------------------------------------\u001b[0m",
      "\u001b[0;31mNameError\u001b[0m                                 Traceback (most recent call last)",
      "\u001b[1;32m/home/prakashlab/Documents/fstack/demo.ipynb Cell 4\u001b[0m in \u001b[0;36m<cell line: 4>\u001b[0;34m()\u001b[0m\n\u001b[1;32m      <a href='vscode-notebook-cell://ssh-remote%2B10.34.188.143/home/prakashlab/Documents/fstack/demo.ipynb#ch0000003vscode-remote?line=0'>1</a>\u001b[0m \u001b[39mimport\u001b[39;00m \u001b[39mnumpy\u001b[39;00m \u001b[39mas\u001b[39;00m \u001b[39mnp\u001b[39;00m\n\u001b[1;32m      <a href='vscode-notebook-cell://ssh-remote%2B10.34.188.143/home/prakashlab/Documents/fstack/demo.ipynb#ch0000003vscode-remote?line=1'>2</a>\u001b[0m \u001b[39mimport\u001b[39;00m \u001b[39mmatplotlib\u001b[39;00m\u001b[39m.\u001b[39;00m\u001b[39mpyplot\u001b[39;00m \u001b[39mas\u001b[39;00m \u001b[39mplt\u001b[39;00m\n\u001b[0;32m----> <a href='vscode-notebook-cell://ssh-remote%2B10.34.188.143/home/prakashlab/Documents/fstack/demo.ipynb#ch0000003vscode-remote?line=3'>4</a>\u001b[0m dif \u001b[39m=\u001b[39m im2\u001b[39m-\u001b[39mim1\n\u001b[1;32m      <a href='vscode-notebook-cell://ssh-remote%2B10.34.188.143/home/prakashlab/Documents/fstack/demo.ipynb#ch0000003vscode-remote?line=4'>5</a>\u001b[0m get_ipython()\u001b[39m.\u001b[39mrun_line_magic(\u001b[39m'\u001b[39m\u001b[39mmatplotlib\u001b[39m\u001b[39m'\u001b[39m, \u001b[39m'\u001b[39m\u001b[39minline\u001b[39m\u001b[39m'\u001b[39m)\n\u001b[1;32m      <a href='vscode-notebook-cell://ssh-remote%2B10.34.188.143/home/prakashlab/Documents/fstack/demo.ipynb#ch0000003vscode-remote?line=5'>6</a>\u001b[0m plt\u001b[39m.\u001b[39mimshow(np\u001b[39m.\u001b[39mminimum(np\u001b[39m.\u001b[39mabs(dif), \u001b[39m30\u001b[39m), interpolation\u001b[39m=\u001b[39m\u001b[39m'\u001b[39m\u001b[39mnearest\u001b[39m\u001b[39m'\u001b[39m)\n",
      "\u001b[0;31mNameError\u001b[0m: name 'im2' is not defined"
     ]
    }
   ],
   "source": [
    "import numpy as np\n",
    "import matplotlib.pyplot as plt\n",
    "\n",
    "dif = im2-im1\n",
    "%matplotlib inline\n",
    "plt.imshow(np.minimum(np.abs(dif), 30), interpolation='nearest')\n",
    "plt.colorbar()\n",
    "plt.show()\n",
    "print(100*np.sum(np.abs(dif) >= 1)/dif.size)\n",
    "print((np.min(dif), np.max(dif)))\n",
    "print(np.mean(np.abs(dif[np.abs(dif)>=1]/im1[np.abs(dif)>=1]) * 100))"
   ]
  }
 ],
 "metadata": {
  "kernelspec": {
   "display_name": "Python 3.10.5 ('imgproc': conda)",
   "language": "python",
   "name": "python3"
  },
  "language_info": {
   "codemirror_mode": {
    "name": "ipython",
    "version": 3
   },
   "file_extension": ".py",
   "mimetype": "text/x-python",
   "name": "python",
   "nbconvert_exporter": "python",
   "pygments_lexer": "ipython3",
   "version": "3.10.5"
  },
  "vscode": {
   "interpreter": {
    "hash": "b3affe3650691ae519d579fa88f357903ea006b8eade778c941b98d19c633513"
   }
  }
 },
 "nbformat": 4,
 "nbformat_minor": 5
}
