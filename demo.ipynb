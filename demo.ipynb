{
 "cells": [
  {
   "cell_type": "code",
   "execution_count": 1,
   "id": "b5a2a355",
   "metadata": {},
   "outputs": [],
   "source": [
    "from fstack import fstack\n",
    "import os\n",
    "import re"
   ]
  },
  {
   "cell_type": "code",
   "execution_count": 2,
   "id": "b456c27b",
   "metadata": {},
   "outputs": [
    {
     "name": "stdout",
     "output_type": "stream",
     "text": [
      "path to images?images/1\n",
      "key?405\n",
      "['images/1/0_1_0_Fluorescence_405_nm_Ex.bmp', 'images/1/0_1_1_Fluorescence_405_nm_Ex.bmp', 'images/1/0_1_2_Fluorescence_405_nm_Ex.bmp', 'images/1/0_1_3_Fluorescence_405_nm_Ex.bmp', 'images/1/0_1_4_Fluorescence_405_nm_Ex.bmp', 'images/1/0_1_5_Fluorescence_405_nm_Ex.bmp', 'images/1/0_1_6_Fluorescence_405_nm_Ex.bmp', 'images/1/0_1_7_Fluorescence_405_nm_Ex.bmp', 'images/1/0_1_8_Fluorescence_405_nm_Ex.bmp', 'images/1/0_1_9_Fluorescence_405_nm_Ex.bmp']\n"
     ]
    }
   ],
   "source": [
    "direct = input(\"path to images?\")\n",
    "key = input(\"key?\")\n",
    "\n",
    "images = os.listdir(direct)\n",
    "filteredList = [img for img in images if key in img]\n",
    "paths = [direct + \"/\" + img for img in filteredList]\n",
    "focus = [int(re.findall(r\"[0-9]+\", img)[2]) for img in filteredList]\n",
    "print(paths)"
   ]
  },
  {
   "cell_type": "code",
   "execution_count": 3,
   "id": "f6ee42fc",
   "metadata": {},
   "outputs": [
    {
     "name": "stdout",
     "output_type": "stream",
     "text": [
      "FMeasure: is 3D\n",
      "all same\n",
      "13.541819334030151\n",
      "SMeasure\n",
      "gauss3P: 5.86132287979126\n"
     ]
    },
    {
     "name": "stderr",
     "output_type": "stream",
     "text": [
      "C:\\Users\\kevin\\Documents\\prakash\\zstack_proj\\fstack\\__init__.py:30: RuntimeWarning: divide by zero encountered in divide\n",
      "  err = np.array([np.abs(focus_measure[i,:,:] - A * np.exp(-(1+focus[i]-u)**2/(2*(s**2)))) for i in range(len(focus))])\n",
      "C:\\Users\\kevin\\Documents\\prakash\\zstack_proj\\fstack\\__init__.py:30: RuntimeWarning: invalid value encountered in divide\n",
      "  err = np.array([np.abs(focus_measure[i,:,:] - A * np.exp(-(1+focus[i]-u)**2/(2*(s**2)))) for i in range(len(focus))])\n"
     ]
    },
    {
     "name": "stdout",
     "output_type": "stream",
     "text": [
      "err: 5.27884840965271\n",
      "filter: 4.394286870956421\n",
      "fusion: 1.0820703506469727\n"
     ]
    }
   ],
   "source": [
    "im = fstack(paths, focus)"
   ]
  },
  {
   "cell_type": "code",
   "execution_count": 4,
   "id": "579303c7",
   "metadata": {},
   "outputs": [
    {
     "data": {
      "text/plain": [
       "True"
      ]
     },
     "execution_count": 4,
     "metadata": {},
     "output_type": "execute_result"
    }
   ],
   "source": [
    "import cv2\n",
    "cv2.imwrite(\"pypack.png\", im)"
   ]
  }
 ],
 "metadata": {
  "kernelspec": {
   "display_name": "Python 3 (ipykernel)",
   "language": "python",
   "name": "python3"
  },
  "language_info": {
   "codemirror_mode": {
    "name": "ipython",
    "version": 3
   },
   "file_extension": ".py",
   "mimetype": "text/x-python",
   "name": "python",
   "nbconvert_exporter": "python",
   "pygments_lexer": "ipython3",
   "version": "3.8.5"
  }
 },
 "nbformat": 4,
 "nbformat_minor": 5
}
